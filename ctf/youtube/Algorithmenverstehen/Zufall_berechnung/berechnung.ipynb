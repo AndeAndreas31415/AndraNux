{
 "cells": [
  {
   "cell_type": "code",
   "execution_count": 6,
   "metadata": {
    "collapsed": false
   },
   "outputs": [
    {
     "name": "stdout",
     "output_type": "stream",
     "text": [
      "1062379347639215733\n"
     ]
    }
   ],
   "source": [
    "def rand(m, c, n, z):\n",
    "    zn = (z * m + c) % n\n",
    "    return zn\n",
    "\n",
    "def case2(z1, z2, m, n):\n",
    "    return (z2 - z1 * m) % n\n",
    "\n",
    "def case3(z1, z2, z3, n):\n",
    "    m = ((z3 - z2) * inverse_mod(z2-z1,n)) % n\n",
    "    c = case2(z1, z2, m, n)\n",
    "    return m,c\n",
    "\n",
    "def case4(zs):\n",
    "    deltas = [z2 - z1 for z1, z2 in zip(zs, zs[1:])]\n",
    "    nks = [d1*d3 - d2**2 for d1, d2, d3 in zip(deltas, deltas[1:], deltas[2:])]\n",
    "    n = gcd(nks)\n",
    "    m, c = case3(z1, z2, z3, n)\n",
    "    return m, c, n\n",
    "\n",
    "if __name__ == '__main__':\n",
    "    z1 = 3601718888034155915\n",
    "    z2 = 6224347828421682769\n",
    "    z3 = 18454011862359029734\n",
    "    z4 = 22719162793282404969\n",
    "    z5 = 1867339557092091816\n",
    "    z6 = 20213542725635123842\n",
    "    m, c, n = case4([z1, z2, z3, z4, z5, z6])\n",
    "    print(rand(m,c,n,z6))"
   ]
  }
 ],
 "metadata": {
  "kernelspec": {
   "display_name": "SageMath 9.2",
   "language": "sagemath",
   "metadata": {
    "cocalc": {
     "description": "Open-source mathematical software system",
     "priority": 10,
     "url": "https://www.sagemath.org/"
    }
   },
   "name": "sage-9.2",
   "resource_dir": "/ext/jupyter/kernels/sage-9.2"
  }
 },
 "nbformat": 4,
 "nbformat_minor": 4
}